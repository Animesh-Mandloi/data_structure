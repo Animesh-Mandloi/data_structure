{
 "cells": [
  {
   "cell_type": "code",
   "execution_count": null,
   "id": "86d8259e-11a2-4c40-b42c-ad18be539a91",
   "metadata": {},
   "outputs": [],
   "source": [
    "#Why Choose deque from the collections Module for a Queue Instead of a List?\n",
    "from collections import deque\n",
    "\n",
    "queue = deque()\n",
    "queue.append('a')  # O(1) operation\n",
    "queue.append('b')  # O(1) operation\n",
    "print(queue.popleft())  # O(1) operation, returns 'a'\n"
   ]
  },
  {
   "cell_type": "code",
   "execution_count": null,
   "id": "2d5a72bd-435e-4189-94ba-4119e86388a2",
   "metadata": {},
   "outputs": [],
   "source": [
    "#n applications like text editors or graphic design software, stacks are used to implement undo functionality. Each action (e.g., typing a word or drawing a line) is pushed onto a stack. When the user performs an undo operation, the most recent action is popped off the stack and reverted.\n",
    "stack = []\n",
    "stack.append('action1') \n",
    "stack.append('action2')  \n",
    "print(stack.pop())      \n",
    "print(stack.pop())      "
   ]
  },
  {
   "cell_type": "code",
   "execution_count": null,
   "id": "571b52ca-737a-41d1-aa76-8419c5626485",
   "metadata": {},
   "outputs": [],
   "source": [
    "#3. Primary Advantage of Using Sets in Python\n",
    "set1 = {1, 2, 3, 4}\n",
    "set2 = {3, 4, 5, 6}\n",
    "\n",
    "# Union\n",
    "print(set1 | set2)  # Output: {1, 2, 3, 4, 5, 6}\n",
    "\n",
    "# Intersection\n",
    "print(set1 & set2)  # Output: {3, 4}\n"
   ]
  },
  {
   "cell_type": "code",
   "execution_count": null,
   "id": "680ad2e0-2a48-4be0-bc2f-c5b003034e81",
   "metadata": {},
   "outputs": [],
   "source": [
    "#4. When to Use Arrays Instead of Lists for Numerical Data\n"
   ]
  },
  {
   "cell_type": "code",
   "execution_count": null,
   "id": "d313e245-73e7-4b9e-a2b9-c932ef1e6c32",
   "metadata": {},
   "outputs": [],
   "source": []
  }
 ],
 "metadata": {
  "kernelspec": {
   "display_name": "Python 3 (ipykernel)",
   "language": "python",
   "name": "python3"
  },
  "language_info": {
   "codemirror_mode": {
    "name": "ipython",
    "version": 3
   },
   "file_extension": ".py",
   "mimetype": "text/x-python",
   "name": "python",
   "nbconvert_exporter": "python",
   "pygments_lexer": "ipython3",
   "version": "3.12.2"
  }
 },
 "nbformat": 4,
 "nbformat_minor": 5
}
